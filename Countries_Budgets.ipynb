{
  "nbformat": 4,
  "nbformat_minor": 0,
  "metadata": {
    "colab": {
      "name": "Countries Budgets",
      "version": "0.3.2",
      "views": {},
      "default_view": {},
      "provenance": [],
      "collapsed_sections": []
    },
    "kernelspec": {
      "name": "python2",
      "display_name": "Python 2"
    }
  },
  "cells": [
    {
      "metadata": {
        "id": "DFh-EWoityT_",
        "colab_type": "code",
        "colab": {
          "autoexec": {
            "startup": false,
            "wait_interval": 0
          }
        }
      },
      "cell_type": "code",
      "source": [
        "from bs4 import BeautifulSoup\n",
        "import urllib2\n",
        "import pandas as pd\n",
        "import re"
      ],
      "execution_count": 0,
      "outputs": []
    },
    {
      "metadata": {
        "id": "NHGMGm-eSqtd",
        "colab_type": "code",
        "colab": {
          "autoexec": {
            "startup": false,
            "wait_interval": 0
          }
        }
      },
      "cell_type": "code",
      "source": [
        "def human2machine(number):\n",
        "  number = re.sub(r'[, \\$]', r'', str(number))\n",
        "  #if re.match(r'million', number):\n",
        "  if 'million' in number:\n",
        "    number = re.sub(r'^([0-9\\.]+).*$', r'\\1 * 1000000', number)\n",
        "  elif 'billion' in number:\n",
        "    number = re.sub(r'^([0-9\\.]+).*$', r'\\1 * 1000000000', number)\n",
        "  elif 'trillion' in number:\n",
        "    number = re.sub(r'^([0-9\\.]+).*$', r'\\1 * 1000000000000', number)\n",
        "    \n",
        "  try:\n",
        "    result = int(eval(number))\n",
        "  except ValueError, NameError:\n",
        "    result = 'Something went wrong'\n",
        "  \n",
        "  return result"
      ],
      "execution_count": 0,
      "outputs": []
    },
    {
      "metadata": {
        "id": "xa47ztxQt7A-",
        "colab_type": "code",
        "colab": {
          "autoexec": {
            "startup": false,
            "wait_interval": 0
          }
        }
      },
      "cell_type": "code",
      "source": [
        "budget_url = 'https://www.cia.gov/library/publications/the-world-factbook/fields/2056.html'\n",
        "popula_url = 'https://www.cia.gov/library/publications/the-world-factbook/rankorder/2119rank.html'"
      ],
      "execution_count": 0,
      "outputs": []
    },
    {
      "metadata": {
        "id": "AWL9PHbJv82c",
        "colab_type": "code",
        "colab": {
          "autoexec": {
            "startup": false,
            "wait_interval": 0
          }
        }
      },
      "cell_type": "code",
      "source": [
        "budget_soup = BeautifulSoup(urllib2.urlopen(budget_url).read(), 'html.parser')\n",
        "popula_soup = BeautifulSoup(urllib2.urlopen(popula_url).read(), 'html.parser')"
      ],
      "execution_count": 0,
      "outputs": []
    },
    {
      "metadata": {
        "id": "ZF11qfJ8wJ5u",
        "colab_type": "code",
        "colab": {
          "autoexec": {
            "startup": false,
            "wait_interval": 0
          }
        }
      },
      "cell_type": "code",
      "source": [
        "budget_table = budget_soup.find('table', id='fieldListing')\n",
        "popula_table = popula_soup.find('table', id='rankOrder')  "
      ],
      "execution_count": 0,
      "outputs": []
    },
    {
      "metadata": {
        "id": "k_rgLpPmw-ly",
        "colab_type": "code",
        "colab": {
          "autoexec": {
            "startup": false,
            "wait_interval": 0
          }
        }
      },
      "cell_type": "code",
      "source": [
        " budgets = []\n",
        "\n",
        "for country in budget_table.find_all('tr')[1:]:\n",
        "  country_name = country.find_all('td', 'country')[0].text\n",
        "  data = str(country.find_all('td', 'fieldData')[0].text).split('\\n')[1:]\n",
        "  revenues = re.sub(r'^.*: (\\$.*(illion|00)|\\$?NA).*$', r'\\1', data[0])\n",
        "  if 'NA' in revenues: revenues = None\n",
        "  expenditures = re.sub(r'^.*: (\\$.*(illion|00)|\\$?NA).*$', r'\\1', data[1])\n",
        "  if 'NA' in expenditures: expenditures = None\n",
        "  budgets.append((str(country_name), revenues, expenditures))"
      ],
      "execution_count": 0,
      "outputs": []
    },
    {
      "metadata": {
        "id": "duVyDUPR0KBe",
        "colab_type": "code",
        "colab": {
          "autoexec": {
            "startup": false,
            "wait_interval": 0
          },
          "output_extras": [
            {
              "item_id": 1
            }
          ],
          "base_uri": "https://localhost:8080/",
          "height": 206
        },
        "outputId": "c77e12c6-0ea3-460c-9f19-9dee74299991",
        "executionInfo": {
          "status": "ok",
          "timestamp": 1520018717034,
          "user_tz": -60,
          "elapsed": 837,
          "user": {
            "displayName": "Wassim Karoui",
            "photoUrl": "https://lh3.googleusercontent.com/a/default-user=s128",
            "userId": "102538434785841722169"
          }
        }
      },
      "cell_type": "code",
      "source": [
        "df_budgets = pd.DataFrame(budgets, columns=['Country', 'Revenues_HumanReadable', 'Expenditures_HumanReadable'])\n",
        "df_budgets.head()"
      ],
      "execution_count": 7,
      "outputs": [
        {
          "output_type": "execute_result",
          "data": {
            "text/html": [
              "<div>\n",
              "<style scoped>\n",
              "    .dataframe tbody tr th:only-of-type {\n",
              "        vertical-align: middle;\n",
              "    }\n",
              "\n",
              "    .dataframe tbody tr th {\n",
              "        vertical-align: top;\n",
              "    }\n",
              "\n",
              "    .dataframe thead th {\n",
              "        text-align: right;\n",
              "    }\n",
              "</style>\n",
              "<table border=\"1\" class=\"dataframe\">\n",
              "  <thead>\n",
              "    <tr style=\"text-align: right;\">\n",
              "      <th></th>\n",
              "      <th>Country</th>\n",
              "      <th>Revenues_HumanReadable</th>\n",
              "      <th>Expenditures_HumanReadable</th>\n",
              "    </tr>\n",
              "  </thead>\n",
              "  <tbody>\n",
              "    <tr>\n",
              "      <th>0</th>\n",
              "      <td>Afghanistan</td>\n",
              "      <td>$1.992 billion</td>\n",
              "      <td>$6.636 billion</td>\n",
              "    </tr>\n",
              "    <tr>\n",
              "      <th>1</th>\n",
              "      <td>Albania</td>\n",
              "      <td>$3.486 billion</td>\n",
              "      <td>$3.765 billion</td>\n",
              "    </tr>\n",
              "    <tr>\n",
              "      <th>2</th>\n",
              "      <td>Algeria</td>\n",
              "      <td>$52.08 billion</td>\n",
              "      <td>$70.74 billion</td>\n",
              "    </tr>\n",
              "    <tr>\n",
              "      <th>3</th>\n",
              "      <td>American Samoa</td>\n",
              "      <td>$241.2 million</td>\n",
              "      <td>$243.7 million</td>\n",
              "    </tr>\n",
              "    <tr>\n",
              "      <th>4</th>\n",
              "      <td>Andorra</td>\n",
              "      <td>$1.872 billion</td>\n",
              "      <td>$2.06 billion</td>\n",
              "    </tr>\n",
              "  </tbody>\n",
              "</table>\n",
              "</div>"
            ],
            "text/plain": [
              "          Country Revenues_HumanReadable Expenditures_HumanReadable\n",
              "0     Afghanistan         $1.992 billion             $6.636 billion\n",
              "1         Albania         $3.486 billion             $3.765 billion\n",
              "2         Algeria         $52.08 billion             $70.74 billion\n",
              "3  American Samoa         $241.2 million             $243.7 million\n",
              "4         Andorra         $1.872 billion              $2.06 billion"
            ]
          },
          "metadata": {
            "tags": []
          },
          "execution_count": 7
        }
      ]
    },
    {
      "metadata": {
        "id": "-pLs4vViSL54",
        "colab_type": "code",
        "colab": {
          "autoexec": {
            "startup": false,
            "wait_interval": 0
          }
        }
      },
      "cell_type": "code",
      "source": [
        "# Later we will merge Gaza with West Bank\n",
        "df_budgets.iloc[75, 1] = 0\n",
        "df_budgets.iloc[75, 2] = 0\n",
        "\n",
        "df_budgets = df_budgets.dropna()"
      ],
      "execution_count": 0,
      "outputs": []
    },
    {
      "metadata": {
        "id": "3TzoaYcAX9pC",
        "colab_type": "code",
        "colab": {
          "autoexec": {
            "startup": false,
            "wait_interval": 0
          }
        }
      },
      "cell_type": "code",
      "source": [
        "population = []\n",
        "\n",
        "for country in popula_table.find_all('tr')[1:]:\n",
        "  country_name = country.find_all('td')[1].text\n",
        "  pop_number = country.find_all('td')[2].text\n",
        "  population.append((country_name, pop_number))"
      ],
      "execution_count": 0,
      "outputs": []
    },
    {
      "metadata": {
        "id": "A2ETFq9WZWgO",
        "colab_type": "code",
        "colab": {
          "autoexec": {
            "startup": false,
            "wait_interval": 0
          },
          "output_extras": [
            {
              "item_id": 1
            }
          ],
          "base_uri": "https://localhost:8080/",
          "height": 206
        },
        "outputId": "a368b150-f60c-46c6-aa02-e8293a7cc9fb",
        "executionInfo": {
          "status": "ok",
          "timestamp": 1520018719589,
          "user_tz": -60,
          "elapsed": 807,
          "user": {
            "displayName": "Wassim Karoui",
            "photoUrl": "https://lh3.googleusercontent.com/a/default-user=s128",
            "userId": "102538434785841722169"
          }
        }
      },
      "cell_type": "code",
      "source": [
        "df_population = pd.DataFrame(population, columns=['Country', 'Population_HumanReadable'])\n",
        "df_population.head()"
      ],
      "execution_count": 10,
      "outputs": [
        {
          "output_type": "execute_result",
          "data": {
            "text/html": [
              "<div>\n",
              "<style scoped>\n",
              "    .dataframe tbody tr th:only-of-type {\n",
              "        vertical-align: middle;\n",
              "    }\n",
              "\n",
              "    .dataframe tbody tr th {\n",
              "        vertical-align: top;\n",
              "    }\n",
              "\n",
              "    .dataframe thead th {\n",
              "        text-align: right;\n",
              "    }\n",
              "</style>\n",
              "<table border=\"1\" class=\"dataframe\">\n",
              "  <thead>\n",
              "    <tr style=\"text-align: right;\">\n",
              "      <th></th>\n",
              "      <th>Country</th>\n",
              "      <th>Population_HumanReadable</th>\n",
              "    </tr>\n",
              "  </thead>\n",
              "  <tbody>\n",
              "    <tr>\n",
              "      <th>0</th>\n",
              "      <td>China</td>\n",
              "      <td>1,379,302,771</td>\n",
              "    </tr>\n",
              "    <tr>\n",
              "      <th>1</th>\n",
              "      <td>India</td>\n",
              "      <td>1,281,935,911</td>\n",
              "    </tr>\n",
              "    <tr>\n",
              "      <th>2</th>\n",
              "      <td>United States</td>\n",
              "      <td>326,625,791</td>\n",
              "    </tr>\n",
              "    <tr>\n",
              "      <th>3</th>\n",
              "      <td>Indonesia</td>\n",
              "      <td>260,580,739</td>\n",
              "    </tr>\n",
              "    <tr>\n",
              "      <th>4</th>\n",
              "      <td>Brazil</td>\n",
              "      <td>207,353,391</td>\n",
              "    </tr>\n",
              "  </tbody>\n",
              "</table>\n",
              "</div>"
            ],
            "text/plain": [
              "         Country Population_HumanReadable\n",
              "0          China            1,379,302,771\n",
              "1          India            1,281,935,911\n",
              "2  United States              326,625,791\n",
              "3      Indonesia              260,580,739\n",
              "4         Brazil              207,353,391"
            ]
          },
          "metadata": {
            "tags": []
          },
          "execution_count": 10
        }
      ]
    },
    {
      "metadata": {
        "id": "YvnEu7S2iXj5",
        "colab_type": "code",
        "colab": {
          "autoexec": {
            "startup": false,
            "wait_interval": 0
          },
          "output_extras": [
            {
              "item_id": 1
            }
          ],
          "base_uri": "https://localhost:8080/",
          "height": 206
        },
        "outputId": "ea1a2b3e-ea08-4701-cbdc-6701490a69f1",
        "executionInfo": {
          "status": "ok",
          "timestamp": 1520018720451,
          "user_tz": -60,
          "elapsed": 783,
          "user": {
            "displayName": "Wassim Karoui",
            "photoUrl": "https://lh3.googleusercontent.com/a/default-user=s128",
            "userId": "102538434785841722169"
          }
        }
      },
      "cell_type": "code",
      "source": [
        "df = pd.merge(df_budgets, df_population, how='left', on='Country')\n",
        "df.head()"
      ],
      "execution_count": 11,
      "outputs": [
        {
          "output_type": "execute_result",
          "data": {
            "text/html": [
              "<div>\n",
              "<style scoped>\n",
              "    .dataframe tbody tr th:only-of-type {\n",
              "        vertical-align: middle;\n",
              "    }\n",
              "\n",
              "    .dataframe tbody tr th {\n",
              "        vertical-align: top;\n",
              "    }\n",
              "\n",
              "    .dataframe thead th {\n",
              "        text-align: right;\n",
              "    }\n",
              "</style>\n",
              "<table border=\"1\" class=\"dataframe\">\n",
              "  <thead>\n",
              "    <tr style=\"text-align: right;\">\n",
              "      <th></th>\n",
              "      <th>Country</th>\n",
              "      <th>Revenues_HumanReadable</th>\n",
              "      <th>Expenditures_HumanReadable</th>\n",
              "      <th>Population_HumanReadable</th>\n",
              "    </tr>\n",
              "  </thead>\n",
              "  <tbody>\n",
              "    <tr>\n",
              "      <th>0</th>\n",
              "      <td>Afghanistan</td>\n",
              "      <td>$1.992 billion</td>\n",
              "      <td>$6.636 billion</td>\n",
              "      <td>34,124,811</td>\n",
              "    </tr>\n",
              "    <tr>\n",
              "      <th>1</th>\n",
              "      <td>Albania</td>\n",
              "      <td>$3.486 billion</td>\n",
              "      <td>$3.765 billion</td>\n",
              "      <td>3,047,987</td>\n",
              "    </tr>\n",
              "    <tr>\n",
              "      <th>2</th>\n",
              "      <td>Algeria</td>\n",
              "      <td>$52.08 billion</td>\n",
              "      <td>$70.74 billion</td>\n",
              "      <td>40,969,443</td>\n",
              "    </tr>\n",
              "    <tr>\n",
              "      <th>3</th>\n",
              "      <td>American Samoa</td>\n",
              "      <td>$241.2 million</td>\n",
              "      <td>$243.7 million</td>\n",
              "      <td>51,504</td>\n",
              "    </tr>\n",
              "    <tr>\n",
              "      <th>4</th>\n",
              "      <td>Andorra</td>\n",
              "      <td>$1.872 billion</td>\n",
              "      <td>$2.06 billion</td>\n",
              "      <td>85,702</td>\n",
              "    </tr>\n",
              "  </tbody>\n",
              "</table>\n",
              "</div>"
            ],
            "text/plain": [
              "          Country Revenues_HumanReadable Expenditures_HumanReadable  \\\n",
              "0     Afghanistan         $1.992 billion             $6.636 billion   \n",
              "1         Albania         $3.486 billion             $3.765 billion   \n",
              "2         Algeria         $52.08 billion             $70.74 billion   \n",
              "3  American Samoa         $241.2 million             $243.7 million   \n",
              "4         Andorra         $1.872 billion              $2.06 billion   \n",
              "\n",
              "  Population_HumanReadable  \n",
              "0               34,124,811  \n",
              "1                3,047,987  \n",
              "2               40,969,443  \n",
              "3                   51,504  \n",
              "4                   85,702  "
            ]
          },
          "metadata": {
            "tags": []
          },
          "execution_count": 11
        }
      ]
    },
    {
      "metadata": {
        "id": "1M9cx1dnlvGX",
        "colab_type": "code",
        "colab": {
          "autoexec": {
            "startup": false,
            "wait_interval": 0
          },
          "output_extras": [
            {
              "item_id": 1
            }
          ],
          "base_uri": "https://localhost:8080/",
          "height": 81
        },
        "outputId": "24aace8e-fe40-4457-9868-f5e790444ebd",
        "executionInfo": {
          "status": "ok",
          "timestamp": 1520018721313,
          "user_tz": -60,
          "elapsed": 779,
          "user": {
            "displayName": "Wassim Karoui",
            "photoUrl": "https://lh3.googleusercontent.com/a/default-user=s128",
            "userId": "102538434785841722169"
          }
        }
      },
      "cell_type": "code",
      "source": [
        "df[df['Country'] == 'World']"
      ],
      "execution_count": 12,
      "outputs": [
        {
          "output_type": "execute_result",
          "data": {
            "text/html": [
              "<div>\n",
              "<style scoped>\n",
              "    .dataframe tbody tr th:only-of-type {\n",
              "        vertical-align: middle;\n",
              "    }\n",
              "\n",
              "    .dataframe tbody tr th {\n",
              "        vertical-align: top;\n",
              "    }\n",
              "\n",
              "    .dataframe thead th {\n",
              "        text-align: right;\n",
              "    }\n",
              "</style>\n",
              "<table border=\"1\" class=\"dataframe\">\n",
              "  <thead>\n",
              "    <tr style=\"text-align: right;\">\n",
              "      <th></th>\n",
              "      <th>Country</th>\n",
              "      <th>Revenues_HumanReadable</th>\n",
              "      <th>Expenditures_HumanReadable</th>\n",
              "      <th>Population_HumanReadable</th>\n",
              "    </tr>\n",
              "  </thead>\n",
              "  <tbody>\n",
              "    <tr>\n",
              "      <th>225</th>\n",
              "      <td>World</td>\n",
              "      <td>$20.35 trillion</td>\n",
              "      <td>$22.74 trillion</td>\n",
              "      <td>NaN</td>\n",
              "    </tr>\n",
              "  </tbody>\n",
              "</table>\n",
              "</div>"
            ],
            "text/plain": [
              "    Country Revenues_HumanReadable Expenditures_HumanReadable  \\\n",
              "225   World        $20.35 trillion            $22.74 trillion   \n",
              "\n",
              "    Population_HumanReadable  \n",
              "225                      NaN  "
            ]
          },
          "metadata": {
            "tags": []
          },
          "execution_count": 12
        }
      ]
    },
    {
      "metadata": {
        "id": "QZvlkVd8kjfv",
        "colab_type": "code",
        "colab": {
          "autoexec": {
            "startup": false,
            "wait_interval": 0
          }
        }
      },
      "cell_type": "code",
      "source": [
        "iworld = df[df['Country'] == 'World'].index\n",
        "df.iloc[iworld, 3] = 0\n",
        "df['Revenues'] = df['Revenues_HumanReadable'].apply(human2machine)\n",
        "df['Expenditures'] = df['Expenditures_HumanReadable'].apply(human2machine)\n",
        "df['Population'] = df['Population_HumanReadable'].apply(human2machine)\n",
        "df.iloc[iworld, 6] = sum(df['Population'])\n",
        "df.iloc[iworld, 3] = re.sub(r'(\\d{1,3}(?=(\\d{3})+(?!\\d)))',r'\\1,', str(df.iloc[225, 6]))"
      ],
      "execution_count": 0,
      "outputs": []
    },
    {
      "metadata": {
        "id": "wtLGG2blGmUC",
        "colab_type": "code",
        "colab": {
          "autoexec": {
            "startup": false,
            "wait_interval": 0
          },
          "output_extras": [
            {
              "item_id": 1
            }
          ],
          "base_uri": "https://localhost:8080/",
          "height": 81
        },
        "outputId": "7de155c9-1004-4b5d-81fa-501fb43867c9",
        "executionInfo": {
          "status": "ok",
          "timestamp": 1520018722975,
          "user_tz": -60,
          "elapsed": 772,
          "user": {
            "displayName": "Wassim Karoui",
            "photoUrl": "https://lh3.googleusercontent.com/a/default-user=s128",
            "userId": "102538434785841722169"
          }
        }
      },
      "cell_type": "code",
      "source": [
        "df[df['Country'] == 'World']"
      ],
      "execution_count": 14,
      "outputs": [
        {
          "output_type": "execute_result",
          "data": {
            "text/html": [
              "<div>\n",
              "<style scoped>\n",
              "    .dataframe tbody tr th:only-of-type {\n",
              "        vertical-align: middle;\n",
              "    }\n",
              "\n",
              "    .dataframe tbody tr th {\n",
              "        vertical-align: top;\n",
              "    }\n",
              "\n",
              "    .dataframe thead th {\n",
              "        text-align: right;\n",
              "    }\n",
              "</style>\n",
              "<table border=\"1\" class=\"dataframe\">\n",
              "  <thead>\n",
              "    <tr style=\"text-align: right;\">\n",
              "      <th></th>\n",
              "      <th>Country</th>\n",
              "      <th>Revenues_HumanReadable</th>\n",
              "      <th>Expenditures_HumanReadable</th>\n",
              "      <th>Population_HumanReadable</th>\n",
              "      <th>Revenues</th>\n",
              "      <th>Expenditures</th>\n",
              "      <th>Population</th>\n",
              "    </tr>\n",
              "  </thead>\n",
              "  <tbody>\n",
              "    <tr>\n",
              "      <th>225</th>\n",
              "      <td>World</td>\n",
              "      <td>$20.35 trillion</td>\n",
              "      <td>$22.74 trillion</td>\n",
              "      <td>7,404,266,749</td>\n",
              "      <td>20350000000000</td>\n",
              "      <td>22740000000000</td>\n",
              "      <td>7404266749</td>\n",
              "    </tr>\n",
              "  </tbody>\n",
              "</table>\n",
              "</div>"
            ],
            "text/plain": [
              "    Country Revenues_HumanReadable Expenditures_HumanReadable  \\\n",
              "225   World        $20.35 trillion            $22.74 trillion   \n",
              "\n",
              "    Population_HumanReadable        Revenues    Expenditures  Population  \n",
              "225            7,404,266,749  20350000000000  22740000000000  7404266749  "
            ]
          },
          "metadata": {
            "tags": []
          },
          "execution_count": 14
        }
      ]
    },
    {
      "metadata": {
        "id": "YJyBGpokyNnA",
        "colab_type": "code",
        "colab": {
          "autoexec": {
            "startup": false,
            "wait_interval": 0
          },
          "output_extras": [
            {
              "item_id": 1
            }
          ],
          "base_uri": "https://localhost:8080/",
          "height": 112
        },
        "outputId": "aec4ca30-ab89-41d6-c19e-183a5b602ec9",
        "executionInfo": {
          "status": "ok",
          "timestamp": 1520018723886,
          "user_tz": -60,
          "elapsed": 835,
          "user": {
            "displayName": "Wassim Karoui",
            "photoUrl": "https://lh3.googleusercontent.com/a/default-user=s128",
            "userId": "102538434785841722169"
          }
        }
      },
      "cell_type": "code",
      "source": [
        "df[ (df['Country'] == 'Gaza Strip') | (df['Country'] == 'West Bank') ]"
      ],
      "execution_count": 15,
      "outputs": [
        {
          "output_type": "execute_result",
          "data": {
            "text/html": [
              "<div>\n",
              "<style scoped>\n",
              "    .dataframe tbody tr th:only-of-type {\n",
              "        vertical-align: middle;\n",
              "    }\n",
              "\n",
              "    .dataframe tbody tr th {\n",
              "        vertical-align: top;\n",
              "    }\n",
              "\n",
              "    .dataframe thead th {\n",
              "        text-align: right;\n",
              "    }\n",
              "</style>\n",
              "<table border=\"1\" class=\"dataframe\">\n",
              "  <thead>\n",
              "    <tr style=\"text-align: right;\">\n",
              "      <th></th>\n",
              "      <th>Country</th>\n",
              "      <th>Revenues_HumanReadable</th>\n",
              "      <th>Expenditures_HumanReadable</th>\n",
              "      <th>Population_HumanReadable</th>\n",
              "      <th>Revenues</th>\n",
              "      <th>Expenditures</th>\n",
              "      <th>Population</th>\n",
              "    </tr>\n",
              "  </thead>\n",
              "  <tbody>\n",
              "    <tr>\n",
              "      <th>73</th>\n",
              "      <td>Gaza Strip</td>\n",
              "      <td>0</td>\n",
              "      <td>0</td>\n",
              "      <td>1,795,183</td>\n",
              "      <td>0</td>\n",
              "      <td>0</td>\n",
              "      <td>1795183</td>\n",
              "    </tr>\n",
              "    <tr>\n",
              "      <th>224</th>\n",
              "      <td>West Bank</td>\n",
              "      <td>$1.314 billion</td>\n",
              "      <td>$1.278 billion</td>\n",
              "      <td>2,747,943</td>\n",
              "      <td>1314000000</td>\n",
              "      <td>1278000000</td>\n",
              "      <td>2747943</td>\n",
              "    </tr>\n",
              "  </tbody>\n",
              "</table>\n",
              "</div>"
            ],
            "text/plain": [
              "        Country Revenues_HumanReadable Expenditures_HumanReadable  \\\n",
              "73   Gaza Strip                      0                          0   \n",
              "224   West Bank         $1.314 billion             $1.278 billion   \n",
              "\n",
              "    Population_HumanReadable    Revenues  Expenditures  Population  \n",
              "73                 1,795,183           0             0     1795183  \n",
              "224                2,747,943  1314000000    1278000000     2747943  "
            ]
          },
          "metadata": {
            "tags": []
          },
          "execution_count": 15
        }
      ]
    },
    {
      "metadata": {
        "id": "qatmiR562HLs",
        "colab_type": "code",
        "colab": {
          "autoexec": {
            "startup": false,
            "wait_interval": 0
          },
          "output_extras": [
            {
              "item_id": 1
            }
          ],
          "base_uri": "https://localhost:8080/",
          "height": 121
        },
        "outputId": "50ec6759-6fb3-4897-9859-69c46373fe66",
        "executionInfo": {
          "status": "ok",
          "timestamp": 1520018724776,
          "user_tz": -60,
          "elapsed": 779,
          "user": {
            "displayName": "Wassim Karoui",
            "photoUrl": "https://lh3.googleusercontent.com/a/default-user=s128",
            "userId": "102538434785841722169"
          }
        }
      },
      "cell_type": "code",
      "source": [
        "# Little messy here, we copy the values of West Bank, then we merge the population with Gaza strip\n",
        "\n",
        "palestine = df.iloc[224].tolist()\n",
        "palestine[0] = 'Palestine'\n",
        "df.loc[len(df)] = palestine\n",
        "pseries = df.iloc[-1:]\n",
        "pseries.iloc[0, 6] = df['Population'][ (df['Country'] == 'Gaza Strip') | (df['Country'] == 'West Bank') ].sum()\n",
        "pseries.iloc[0, 3] = re.sub(r'(\\d{1,3}(?=(\\d{3})+(?!\\d)))',r'\\1,', str(pseries.iloc[0, 6]))\n",
        "\n",
        "df = df.drop([73, 224])\n",
        "df = df.sort_values(by='Country')\n",
        "df.reset_index(inplace=True, drop=True)"
      ],
      "execution_count": 16,
      "outputs": [
        {
          "output_type": "stream",
          "text": [
            "/usr/local/lib/python2.7/dist-packages/pandas/core/indexing.py:537: SettingWithCopyWarning: \n",
            "A value is trying to be set on a copy of a slice from a DataFrame.\n",
            "Try using .loc[row_indexer,col_indexer] = value instead\n",
            "\n",
            "See the caveats in the documentation: http://pandas.pydata.org/pandas-docs/stable/indexing.html#indexing-view-versus-copy\n",
            "  self.obj[item] = s\n"
          ],
          "name": "stderr"
        }
      ]
    },
    {
      "metadata": {
        "id": "SNeQvCGrCX5r",
        "colab_type": "code",
        "colab": {
          "autoexec": {
            "startup": false,
            "wait_interval": 0
          },
          "output_extras": [
            {
              "item_id": 1
            }
          ],
          "base_uri": "https://localhost:8080/",
          "height": 206
        },
        "outputId": "77dbe921-fb6e-454e-a865-ec8f35b6c7ee",
        "executionInfo": {
          "status": "ok",
          "timestamp": 1520018725658,
          "user_tz": -60,
          "elapsed": 786,
          "user": {
            "displayName": "Wassim Karoui",
            "photoUrl": "https://lh3.googleusercontent.com/a/default-user=s128",
            "userId": "102538434785841722169"
          }
        }
      },
      "cell_type": "code",
      "source": [
        "df.head()"
      ],
      "execution_count": 17,
      "outputs": [
        {
          "output_type": "execute_result",
          "data": {
            "text/html": [
              "<div>\n",
              "<style scoped>\n",
              "    .dataframe tbody tr th:only-of-type {\n",
              "        vertical-align: middle;\n",
              "    }\n",
              "\n",
              "    .dataframe tbody tr th {\n",
              "        vertical-align: top;\n",
              "    }\n",
              "\n",
              "    .dataframe thead th {\n",
              "        text-align: right;\n",
              "    }\n",
              "</style>\n",
              "<table border=\"1\" class=\"dataframe\">\n",
              "  <thead>\n",
              "    <tr style=\"text-align: right;\">\n",
              "      <th></th>\n",
              "      <th>Country</th>\n",
              "      <th>Revenues_HumanReadable</th>\n",
              "      <th>Expenditures_HumanReadable</th>\n",
              "      <th>Population_HumanReadable</th>\n",
              "      <th>Revenues</th>\n",
              "      <th>Expenditures</th>\n",
              "      <th>Population</th>\n",
              "    </tr>\n",
              "  </thead>\n",
              "  <tbody>\n",
              "    <tr>\n",
              "      <th>0</th>\n",
              "      <td>Afghanistan</td>\n",
              "      <td>$1.992 billion</td>\n",
              "      <td>$6.636 billion</td>\n",
              "      <td>34,124,811</td>\n",
              "      <td>1992000000</td>\n",
              "      <td>6636000000</td>\n",
              "      <td>34124811</td>\n",
              "    </tr>\n",
              "    <tr>\n",
              "      <th>1</th>\n",
              "      <td>Albania</td>\n",
              "      <td>$3.486 billion</td>\n",
              "      <td>$3.765 billion</td>\n",
              "      <td>3,047,987</td>\n",
              "      <td>3486000000</td>\n",
              "      <td>3765000000</td>\n",
              "      <td>3047987</td>\n",
              "    </tr>\n",
              "    <tr>\n",
              "      <th>2</th>\n",
              "      <td>Algeria</td>\n",
              "      <td>$52.08 billion</td>\n",
              "      <td>$70.74 billion</td>\n",
              "      <td>40,969,443</td>\n",
              "      <td>52080000000</td>\n",
              "      <td>70740000000</td>\n",
              "      <td>40969443</td>\n",
              "    </tr>\n",
              "    <tr>\n",
              "      <th>3</th>\n",
              "      <td>American Samoa</td>\n",
              "      <td>$241.2 million</td>\n",
              "      <td>$243.7 million</td>\n",
              "      <td>51,504</td>\n",
              "      <td>241200000</td>\n",
              "      <td>243700000</td>\n",
              "      <td>51504</td>\n",
              "    </tr>\n",
              "    <tr>\n",
              "      <th>4</th>\n",
              "      <td>Andorra</td>\n",
              "      <td>$1.872 billion</td>\n",
              "      <td>$2.06 billion</td>\n",
              "      <td>85,702</td>\n",
              "      <td>1872000000</td>\n",
              "      <td>2060000000</td>\n",
              "      <td>85702</td>\n",
              "    </tr>\n",
              "  </tbody>\n",
              "</table>\n",
              "</div>"
            ],
            "text/plain": [
              "          Country Revenues_HumanReadable Expenditures_HumanReadable  \\\n",
              "0     Afghanistan         $1.992 billion             $6.636 billion   \n",
              "1         Albania         $3.486 billion             $3.765 billion   \n",
              "2         Algeria         $52.08 billion             $70.74 billion   \n",
              "3  American Samoa         $241.2 million             $243.7 million   \n",
              "4         Andorra         $1.872 billion              $2.06 billion   \n",
              "\n",
              "  Population_HumanReadable     Revenues  Expenditures  Population  \n",
              "0               34,124,811   1992000000    6636000000    34124811  \n",
              "1                3,047,987   3486000000    3765000000     3047987  \n",
              "2               40,969,443  52080000000   70740000000    40969443  \n",
              "3                   51,504    241200000     243700000       51504  \n",
              "4                   85,702   1872000000    2060000000       85702  "
            ]
          },
          "metadata": {
            "tags": []
          },
          "execution_count": 17
        }
      ]
    },
    {
      "metadata": {
        "id": "h4uBDJATCch7",
        "colab_type": "code",
        "colab": {
          "autoexec": {
            "startup": false,
            "wait_interval": 0
          }
        }
      },
      "cell_type": "code",
      "source": [
        "# Separator as semi colon, as comma is already in the data\n",
        "df.to_csv('countries_by_budget_and_population.csv', sep=';')"
      ],
      "execution_count": 0,
      "outputs": []
    }
  ]
}